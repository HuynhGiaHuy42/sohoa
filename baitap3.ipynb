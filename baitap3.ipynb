{
 "cells": [
  {
   "cell_type": "code",
   "execution_count": 3,
   "metadata": {},
   "outputs": [
    {
     "name": "stdout",
     "output_type": "stream",
     "text": [
      "            ID    Age    Salary\n",
      "0    quynh nhu  26.00   50000.0\n",
      "1    Hoang hai  18.00   35000.0\n",
      "2      Unknown  20.00   65000.0\n",
      "3  Phuong tuan  20.75  100000.0\n",
      "4     Thien an  19.00   62500.0\n"
     ]
    },
    {
     "name": "stderr",
     "output_type": "stream",
     "text": [
      "C:\\Users\\Admin\\AppData\\Local\\Temp\\ipykernel_7492\\3337712317.py:13: FutureWarning: A value is trying to be set on a copy of a DataFrame or Series through chained assignment using an inplace method.\n",
      "The behavior will change in pandas 3.0. This inplace method will never work because the intermediate object on which we are setting values always behaves as a copy.\n",
      "\n",
      "For example, when doing 'df[col].method(value, inplace=True)', try using 'df.method({col: value}, inplace=True)' or df[col] = df[col].method(value) instead, to perform the operation inplace on the original object.\n",
      "\n",
      "\n",
      "  df[\"Age\"].fillna(df[\"Age\"].mean(), inplace=True)\n",
      "C:\\Users\\Admin\\AppData\\Local\\Temp\\ipykernel_7492\\3337712317.py:19: FutureWarning: A value is trying to be set on a copy of a DataFrame or Series through chained assignment using an inplace method.\n",
      "The behavior will change in pandas 3.0. This inplace method will never work because the intermediate object on which we are setting values always behaves as a copy.\n",
      "\n",
      "For example, when doing 'df[col].method(value, inplace=True)', try using 'df.method({col: value}, inplace=True)' or df[col] = df[col].method(value) instead, to perform the operation inplace on the original object.\n",
      "\n",
      "\n",
      "  df[\"ID\"].fillna(\"Unknown\", inplace=True)\n",
      "C:\\Users\\Admin\\AppData\\Local\\Temp\\ipykernel_7492\\3337712317.py:22: FutureWarning: A value is trying to be set on a copy of a DataFrame or Series through chained assignment using an inplace method.\n",
      "The behavior will change in pandas 3.0. This inplace method will never work because the intermediate object on which we are setting values always behaves as a copy.\n",
      "\n",
      "For example, when doing 'df[col].method(value, inplace=True)', try using 'df.method({col: value}, inplace=True)' or df[col] = df[col].method(value) instead, to perform the operation inplace on the original object.\n",
      "\n",
      "\n",
      "  df[\"Salary\"].fillna(df[\"Salary\"].mean(), inplace=True)\n"
     ]
    }
   ],
   "source": [
    "import pandas as pd\n",
    "import numpy as np\n",
    "\n",
    "data = {\n",
    "    \"ID\": [\"quynh nhu\", \"Hoang hai\", None, \"Phuong tuan\", \"Thien an\"],\n",
    "    \"Age\": [26, 18, 20, None, 19],\n",
    "    \"Salary\": [50000, 35000, 65000, 100000, None]\n",
    "}\n",
    "\n",
    "df = pd.DataFrame(data)\n",
    "\n",
    "# 1. Điền giá trị thiếu trong cột Age bằng giá trị trung bình\n",
    "df[\"Age\"].fillna(df[\"Age\"].mean(), inplace=True)\n",
    "\n",
    "# 2. Loại bỏ các dòng chứa nhiều dữ liệu thiếu (hơn 1 giá trị NaN)\n",
    "df.dropna(thresh=len(df.columns) - 1, inplace=True)\n",
    "\n",
    "# 3. Điền giá trị thiếu trong cột ID bằng \"Unknown\"\n",
    "df[\"ID\"].fillna(\"Unknown\", inplace=True)\n",
    "\n",
    "# 4. Điền giá trị thiếu trong cột Salary bằng giá trị trung bình\n",
    "df[\"Salary\"].fillna(df[\"Salary\"].mean(), inplace=True)\n",
    "\n",
    "# In kết quả\n",
    "print(df)\n",
    "\n",
    "\n",
    "\n",
    "df= pd.DataFrame(data)"
   ]
  },
  {
   "cell_type": "code",
   "execution_count": null,
   "metadata": {},
   "outputs": [
    {
     "name": "stdout",
     "output_type": "stream",
     "text": [
      "Inner Join:\n",
      "    ID  score_A  Score_B\n",
      "0   3       85       62\n",
      "\n",
      "Left Join:\n",
      "    ID  score_A  Score_B\n",
      "0   1       70      NaN\n",
      "1   2       90      NaN\n",
      "2   3       85     62.0\n",
      "\n",
      "Outer Join:\n",
      "    ID  score_A  Score_B\n",
      "0   1     70.0      NaN\n",
      "1   2     90.0      NaN\n",
      "2   3     85.0     62.0\n",
      "3   4      NaN     91.0\n",
      "4   5      NaN     75.0\n",
      "\n",
      "Vertical Concatenation:\n",
      "    ID  score_A  Score_B\n",
      "0   1     70.0      NaN\n",
      "1   2     90.0      NaN\n",
      "2   3     85.0      NaN\n",
      "3   3      NaN     62.0\n",
      "4   4      NaN     91.0\n",
      "5   5      NaN     75.0\n",
      "\n",
      "Merged and Filled Missing Values:\n",
      "    ID  score_A  Score_B\n",
      "0   1     70.0      0.0\n",
      "1   2     90.0      0.0\n",
      "2   3     85.0     62.0\n",
      "3   4      0.0     91.0\n",
      "4   5      0.0     75.0\n"
     ]
    }
   ],
   "source": [
    "import pandas as pd\n",
    "\n",
    "df1 = pd.DataFrame({\n",
    "    \"ID\": [1, 2, 3],\n",
    "    \"score_A\": [70, 90, 85]\n",
    "})\n",
    "\n",
    "df0 = pd.DataFrame({\n",
    "    \"ID\": [3, 4, 5],\n",
    "    \"Score_B\": [62, 91, 75]\n",
    "})\n",
    "\n",
    "# 1. Merge trên cột ID với các kiểu join khác nhau\n",
    "inner_join = pd.merge(df1, df0, on=\"ID\", how=\"inner\")  # Inner Join\n",
    "left_join = pd.merge(df1, df0, on=\"ID\", how=\"left\")    # Left Join\n",
    "outer_join = pd.merge(df1, df0, on=\"ID\", how=\"outer\")  # Outer Join\n",
    "\n",
    "print(\"Inner Join:\\n\", inner_join)\n",
    "print(\"\\nLeft Join:\\n\", left_join)\n",
    "print(\"\\nOuter Join:\\n\", outer_join)\n",
    "\n",
    "# 2. Nối DataFrame theo chiều dọc (append hoặc concat)\n",
    "vertical_concat = pd.concat([df1, df0], axis=0)\n",
    "print(\"\\nVertical Concatenation:\\n\", vertical_concat)\n",
    "\n",
    "# 3. Gộp df1 và df0 để điền giá trị thiếu\n",
    "merged_fillna = pd.merge(df1, df0, on=\"ID\", how=\"outer\")\n",
    "merged_fillna.fillna(0, inplace=True)  # Điền giá trị thiếu bằng 0\n",
    "print(\"\\nMerged and Filled Missing Values:\\n\", merged_fillna)\n"
   ]
  },
  {
   "cell_type": "code",
   "execution_count": null,
   "metadata": {},
   "outputs": [],
   "source": []
  }
 ],
 "metadata": {
  "kernelspec": {
   "display_name": "Python 3",
   "language": "python",
   "name": "python3"
  },
  "language_info": {
   "codemirror_mode": {
    "name": "ipython",
    "version": 3
   },
   "file_extension": ".py",
   "mimetype": "text/x-python",
   "name": "python",
   "nbconvert_exporter": "python",
   "pygments_lexer": "ipython3",
   "version": "3.12.2"
  }
 },
 "nbformat": 4,
 "nbformat_minor": 2
}
